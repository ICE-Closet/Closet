{
 "cells": [
  {
   "cell_type": "markdown",
   "metadata": {},
   "source": [
    "https://github.com/MsJacksonIYN/Mod5_FashionRecommendations/blob/master/Notebooks_Recommender/Recs_5CNN_ScienceFair.ipynb\n",
    "\n",
    "27 ~ : top[sleeveless, shortsleeve, shortshirt] + bottom[shortpants,longskirt, shortskirt]<br> \n",
    "\t/ dress[sshortdress]\n",
    "\n",
    "26 ~ 23 : top[shortsleeve, shortshirt] + bottom[shortpants,longskirt, shortskirt, longpants] <br>\n",
    "\t/ dress[slongdress, sshortdress]\n",
    "\n",
    "22 ~ 20 : top[longsleeve, longshirt] + bottom[shortpants, longskirt, shortskirt, longpants]<br>\n",
    "\t/ top[shortsleeve, shortshirt] + bottom[longskirt, shortskirt, longpants] + outer[gardigan] <br>\n",
    "\t/ dress[wshortdress]<br>\n",
    "\t/ dress[slongdress, sshortdress] + outer[gardigan]\n",
    "\n",
    "19 ~ 17 : top[longsleeve, longshirt] + bottom[ longskirt, shortskirt, longpants ] + outer[gardigan, vest, hoodie]<br>\n",
    "\t/ top[longneat] + bottom[longskirt, shortskirt, longpants(adidas,jogger빼고)]<br>\n",
    "\t/ dress[wshortdress, wlongdress]<br>\n",
    "\t/ dress[wshortdress, wlongdress] + outer[gardigan, jacket] \n",
    "\n",
    "16 ~ 10 : top[longsleeve, longshirt, longneat] + bottom[longskirt, shortskirt, longpants] + outer[gardigan, hoodie, ma-1, jacket, blezer, rider]<br>\n",
    "\t/ top[longsleeve, longshirt] + bottom[longskirt, shortskirt, longpants] + vest + outer[gardigan, jacket]<br>\n",
    "\t/ dress[wshortdress, wlongdress] + outer[gardigan, hoodie, ma-1, jacket, blezer, rider]<br>\n",
    "\t/ dress[wshortdress, wlongdress] + vest + outer[gardigan, jacket]\n",
    "\n",
    "9 ~ 6 : top[longsleeve, longshirt, longneat] + bottom[longskirt, longpants] + outer[coat, rider, parka]<br>\n",
    "\t/ top[longsleeve, longshirt] + bottom[longskirt, longpants] + vest + outer[coat,, parka]<br>\n",
    "\t/ top[longsleeve, longshirt] + bottom[longskirt, longpants] + outer[hoodie, gardigan] + outer[coat, rider, ma-1]<br>\n",
    "\t/ dress[wshortdress, wlongdress] + outer[coat, rider, parka]<br>\n",
    "\t/ dress[wshortdress, wlongdress] + vest + outer[coat, parka]\n",
    "\n",
    "5 ~ : top[longsleeve, longshirt, longneat] + bottom[longskirt, longpants] + outer[coat, parka]<br>\n",
    "\t/ top[longsleeve, longshirt] + bottom[longskirt, longpants] + vest + outer[coat, parka]<br>\n",
    "\t/ top[longsleeve, longshirt,longneat] + bottom[longskirt, longpants] + outer[hoodie, gardigan, rider, jacket] + outer[coat, parka]<br>\n",
    "\t/ top[longsleeve, longshirt] + bottom[longskirt, longpants]+ vest + outer[gardigan,jacket] + outer[coat, parka]<br>\n",
    "\t/ dress[wshortdress, wlongdress] + outer[coat, parka]<br>\n",
    "    / dress[wshortdress, wlongdress] + outer[gardigan, rider, jacket] + outer[coat, parka]<br>\n",
    "\t/ dress[wshortdress, wlongdress] + vest + outer[coat, parka]<br>\n",
    "    / dress[wshortdress, wlongdress] + vest + outer[gardigan, jacket] + outer[coat, parka]<br>"
   ]
  }
 ],
 "metadata": {
  "kernelspec": {
   "display_name": "Python 3",
   "language": "python",
   "name": "python3"
  },
  "language_info": {
   "codemirror_mode": {
    "name": "ipython",
    "version": 3
   },
   "file_extension": ".py",
   "mimetype": "text/x-python",
   "name": "python",
   "nbconvert_exporter": "python",
   "pygments_lexer": "ipython3",
   "version": "3.7.6"
  }
 },
 "nbformat": 4,
 "nbformat_minor": 4
}
